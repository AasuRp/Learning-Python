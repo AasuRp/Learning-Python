{
 "cells": [
  {
   "cell_type": "code",
   "execution_count": 1,
   "id": "42d4875e",
   "metadata": {},
   "outputs": [
    {
     "name": "stdout",
     "output_type": "stream",
     "text": [
      "Hello World!\n"
     ]
    }
   ],
   "source": [
    "print(\"Hello World!\")"
   ]
  },
  {
   "cell_type": "code",
   "execution_count": 2,
   "id": "9d5750d3",
   "metadata": {},
   "outputs": [],
   "source": [
    "#declaring variables \n",
    "x = 5"
   ]
  },
  {
   "cell_type": "code",
   "execution_count": 3,
   "id": "f814755e",
   "metadata": {},
   "outputs": [
    {
     "name": "stdout",
     "output_type": "stream",
     "text": [
      "5\n"
     ]
    }
   ],
   "source": [
    "print(x)"
   ]
  },
  {
   "cell_type": "code",
   "execution_count": 4,
   "id": "abc6e9cf",
   "metadata": {},
   "outputs": [],
   "source": [
    "a = 465"
   ]
  },
  {
   "cell_type": "code",
   "execution_count": 5,
   "id": "6f9e5463",
   "metadata": {},
   "outputs": [],
   "source": [
    "a1 = 4544"
   ]
  },
  {
   "cell_type": "code",
   "execution_count": 6,
   "id": "6eef69b3",
   "metadata": {},
   "outputs": [],
   "source": [
    "this_is_me = 'chubby'"
   ]
  },
  {
   "cell_type": "code",
   "execution_count": 8,
   "id": "d88ae0e8",
   "metadata": {},
   "outputs": [
    {
     "data": {
      "text/plain": [
       "int"
      ]
     },
     "execution_count": 8,
     "metadata": {},
     "output_type": "execute_result"
    }
   ],
   "source": [
    "#check_datatype\n",
    "type(a)"
   ]
  },
  {
   "cell_type": "code",
   "execution_count": 10,
   "id": "a0bbab9c",
   "metadata": {},
   "outputs": [
    {
     "name": "stdout",
     "output_type": "stream",
     "text": [
      "3.1415\n"
     ]
    }
   ],
   "source": [
    "a = 3.1415\n",
    "#doesn't care about the datatype as long the data are valid\n",
    "print(a)"
   ]
  },
  {
   "cell_type": "code",
   "execution_count": 11,
   "id": "550a4037",
   "metadata": {},
   "outputs": [
    {
     "data": {
      "text/plain": [
       "float"
      ]
     },
     "execution_count": 11,
     "metadata": {},
     "output_type": "execute_result"
    }
   ],
   "source": [
    "type(a)"
   ]
  },
  {
   "cell_type": "code",
   "execution_count": 12,
   "id": "94fa3812",
   "metadata": {},
   "outputs": [
    {
     "name": "stdout",
     "output_type": "stream",
     "text": [
      "aasu\n"
     ]
    }
   ],
   "source": [
    "a = 'aasu'\n",
    "print(a)"
   ]
  },
  {
   "cell_type": "code",
   "execution_count": 14,
   "id": "62ebd314",
   "metadata": {},
   "outputs": [
    {
     "data": {
      "text/plain": [
       "5.0"
      ]
     },
     "execution_count": 14,
     "metadata": {},
     "output_type": "execute_result"
    }
   ],
   "source": [
    "#complex number\n",
    "complex_number = 3 + 5j\n",
    "type(complex_number)"
   ]
  },
  {
   "cell_type": "code",
   "execution_count": 15,
   "id": "0e13cc47",
   "metadata": {},
   "outputs": [
    {
     "data": {
      "text/plain": [
       "3.0"
      ]
     },
     "execution_count": 15,
     "metadata": {},
     "output_type": "execute_result"
    }
   ],
   "source": [
    "#real part\n",
    "complex_number.real"
   ]
  },
  {
   "cell_type": "code",
   "execution_count": 16,
   "id": "851b45a3",
   "metadata": {},
   "outputs": [
    {
     "data": {
      "text/plain": [
       "5.0"
      ]
     },
     "execution_count": 16,
     "metadata": {},
     "output_type": "execute_result"
    }
   ],
   "source": [
    "#imaginary part\n",
    "complex_number.imag"
   ]
  },
  {
   "cell_type": "code",
   "execution_count": 17,
   "id": "d34c5721",
   "metadata": {},
   "outputs": [],
   "source": [
    "# There are no Character datatype in python\n",
    "st1 = 'a'\n",
    "st2 = 'aasu'"
   ]
  },
  {
   "cell_type": "code",
   "execution_count": 20,
   "id": "35bfc985",
   "metadata": {},
   "outputs": [
    {
     "data": {
      "text/plain": [
       "str"
      ]
     },
     "execution_count": 20,
     "metadata": {},
     "output_type": "execute_result"
    }
   ],
   "source": [
    "type(st1)"
   ]
  },
  {
   "cell_type": "code",
   "execution_count": 21,
   "id": "258766c6",
   "metadata": {},
   "outputs": [
    {
     "data": {
      "text/plain": [
       "str"
      ]
     },
     "execution_count": 21,
     "metadata": {},
     "output_type": "execute_result"
    }
   ],
   "source": [
    "type(st1)"
   ]
  },
  {
   "cell_type": "code",
   "execution_count": 23,
   "id": "c7fcc7b0",
   "metadata": {},
   "outputs": [
    {
     "data": {
      "text/plain": [
       "' Python has no multi-line comment.\\nBut we can emultate that. This is multi line string used as multi-line comment\\n'"
      ]
     },
     "execution_count": 23,
     "metadata": {},
     "output_type": "execute_result"
    }
   ],
   "source": [
    "# Comments\n",
    "# #for single line \n",
    "''' Python has no multi-line comment.\n",
    "But we can emultate that. This is multi line string used as multi-line comment\n",
    "'''"
   ]
  },
  {
   "cell_type": "code",
   "execution_count": 25,
   "id": "eb72b7bd",
   "metadata": {},
   "outputs": [
    {
     "data": {
      "text/plain": [
       "3.142857142857143"
      ]
     },
     "execution_count": 25,
     "metadata": {},
     "output_type": "execute_result"
    }
   ],
   "source": [
    "pi = 22/7\n",
    "pi"
   ]
  },
  {
   "cell_type": "code",
   "execution_count": 28,
   "id": "befdbd90",
   "metadata": {},
   "outputs": [
    {
     "data": {
      "text/plain": [
       "3.143"
      ]
     },
     "execution_count": 28,
     "metadata": {},
     "output_type": "execute_result"
    }
   ],
   "source": [
    "# round off --> Important\n",
    "round(pi, 3) #round(value, rounding place)"
   ]
  },
  {
   "cell_type": "code",
   "execution_count": 29,
   "id": "991c46d1",
   "metadata": {},
   "outputs": [
    {
     "data": {
      "text/plain": [
       "28"
      ]
     },
     "execution_count": 29,
     "metadata": {},
     "output_type": "execute_result"
    }
   ],
   "source": [
    "(5 + 5) * 3 - 5 + 3 #follows bodmas rule"
   ]
  },
  {
   "cell_type": "code",
   "execution_count": 31,
   "id": "d23aa5b4",
   "metadata": {},
   "outputs": [
    {
     "data": {
      "text/plain": [
       "True"
      ]
     },
     "execution_count": 31,
     "metadata": {},
     "output_type": "execute_result"
    }
   ],
   "source": [
    "# Boolean algebra\n",
    "True and True\n",
    "True & True"
   ]
  },
  {
   "cell_type": "code",
   "execution_count": 33,
   "id": "05781ade",
   "metadata": {},
   "outputs": [
    {
     "data": {
      "text/plain": [
       "False"
      ]
     },
     "execution_count": 33,
     "metadata": {},
     "output_type": "execute_result"
    }
   ],
   "source": [
    "False or True\n",
    "False | False"
   ]
  },
  {
   "cell_type": "code",
   "execution_count": 35,
   "id": "9160b400",
   "metadata": {},
   "outputs": [
    {
     "data": {
      "text/plain": [
       "True"
      ]
     },
     "execution_count": 35,
     "metadata": {},
     "output_type": "execute_result"
    }
   ],
   "source": [
    "(True | False) and ((True and True) or (True | False))"
   ]
  },
  {
   "cell_type": "code",
   "execution_count": 36,
   "id": "6b379889",
   "metadata": {},
   "outputs": [
    {
     "data": {
      "text/plain": [
       "True"
      ]
     },
     "execution_count": 36,
     "metadata": {},
     "output_type": "execute_result"
    }
   ],
   "source": [
    "#If no brackets operates left to right\n",
    "True | False and True and True or True | False"
   ]
  },
  {
   "cell_type": "code",
   "execution_count": 37,
   "id": "67dbd4b8",
   "metadata": {},
   "outputs": [
    {
     "data": {
      "text/plain": [
       "True"
      ]
     },
     "execution_count": 37,
     "metadata": {},
     "output_type": "execute_result"
    }
   ],
   "source": [
    "# comparisn \n",
    "5 == 5.0"
   ]
  },
  {
   "cell_type": "code",
   "execution_count": 38,
   "id": "32b7951c",
   "metadata": {},
   "outputs": [
    {
     "data": {
      "text/plain": [
       "0.30000000000000004"
      ]
     },
     "execution_count": 38,
     "metadata": {},
     "output_type": "execute_result"
    }
   ],
   "source": [
    "#disadvantage of python\n",
    "0.1 + 0.2\n",
    "# memory matrix related issue"
   ]
  },
  {
   "cell_type": "code",
   "execution_count": 39,
   "id": "433d65aa",
   "metadata": {},
   "outputs": [
    {
     "data": {
      "text/plain": [
       "True"
      ]
     },
     "execution_count": 39,
     "metadata": {},
     "output_type": "execute_result"
    }
   ],
   "source": [
    "val = 'Fox is clever.'\n",
    "'Fox' in val"
   ]
  },
  {
   "cell_type": "code",
   "execution_count": 7,
   "id": "ddc9ff89",
   "metadata": {},
   "outputs": [
    {
     "data": {
      "text/plain": [
       "'111'"
      ]
     },
     "execution_count": 7,
     "metadata": {},
     "output_type": "execute_result"
    }
   ],
   "source": [
    "#concat type conversion\n",
    "str(1)+str(1)+\"1\""
   ]
  },
  {
   "cell_type": "code",
   "execution_count": 3,
   "id": "4c1fc3ed",
   "metadata": {},
   "outputs": [
    {
     "data": {
      "text/plain": [
       "'21'"
      ]
     },
     "execution_count": 3,
     "metadata": {},
     "output_type": "execute_result"
    }
   ],
   "source": [
    "str(1 + 1) + \"1\""
   ]
  },
  {
   "cell_type": "code",
   "execution_count": 41,
   "id": "46f1e4a7",
   "metadata": {},
   "outputs": [],
   "source": [
    "# interview question - Throws an error\n",
    "# 1 + 1 + '1' "
   ]
  },
  {
   "cell_type": "markdown",
   "id": "2cfd3585",
   "metadata": {},
   "source": [
    "# Type-casting "
   ]
  },
  {
   "cell_type": "code",
   "execution_count": 43,
   "id": "714e8fcc",
   "metadata": {},
   "outputs": [
    {
     "data": {
      "text/plain": [
       "3"
      ]
     },
     "execution_count": 43,
     "metadata": {},
     "output_type": "execute_result"
    }
   ],
   "source": [
    "1 + 1 + int('1')"
   ]
  },
  {
   "cell_type": "code",
   "execution_count": 46,
   "id": "1059ef06",
   "metadata": {},
   "outputs": [
    {
     "data": {
      "text/plain": [
       "'111'"
      ]
     },
     "execution_count": 46,
     "metadata": {},
     "output_type": "execute_result"
    }
   ],
   "source": [
    "#for 111\n",
    "str(1) + str(1) + '1'"
   ]
  },
  {
   "cell_type": "code",
   "execution_count": 47,
   "id": "d431b60a",
   "metadata": {},
   "outputs": [
    {
     "data": {
      "text/plain": [
       "'21'"
      ]
     },
     "execution_count": 47,
     "metadata": {},
     "output_type": "execute_result"
    }
   ],
   "source": [
    "#for 21\n",
    "str(1 + 1) + '1'"
   ]
  },
  {
   "cell_type": "markdown",
   "id": "3ac13637",
   "metadata": {},
   "source": [
    "# Create 2 variable which has same value"
   ]
  },
  {
   "cell_type": "code",
   "execution_count": 48,
   "id": "07bbb631",
   "metadata": {},
   "outputs": [],
   "source": [
    "#Traditional way\n",
    "a = 21\n",
    "b = 21\n",
    "\n",
    "a = 21 \n",
    "a = b\n",
    "\n",
    "# Python way\n",
    "a = b = 21"
   ]
  },
  {
   "cell_type": "markdown",
   "id": "aa4fd1ff",
   "metadata": {},
   "source": [
    "# Python can convert string into int/float as long the data is valid"
   ]
  },
  {
   "cell_type": "code",
   "execution_count": 50,
   "id": "2aac91ba",
   "metadata": {},
   "outputs": [
    {
     "data": {
      "text/plain": [
       "1"
      ]
     },
     "execution_count": 50,
     "metadata": {},
     "output_type": "execute_result"
    }
   ],
   "source": [
    "my_roll = int('1')\n",
    "my_roll"
   ]
  }
 ],
 "metadata": {
  "kernelspec": {
   "display_name": "Python 3 (ipykernel)",
   "language": "python",
   "name": "python3"
  },
  "language_info": {
   "codemirror_mode": {
    "name": "ipython",
    "version": 3
   },
   "file_extension": ".py",
   "mimetype": "text/x-python",
   "name": "python",
   "nbconvert_exporter": "python",
   "pygments_lexer": "ipython3",
   "version": "3.11.5"
  }
 },
 "nbformat": 4,
 "nbformat_minor": 5
}
